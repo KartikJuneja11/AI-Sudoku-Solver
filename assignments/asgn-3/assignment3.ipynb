{
  "nbformat": 4,
  "nbformat_minor": 0,
  "metadata": {
    "colab": {
      "provenance": []
    },
    "kernelspec": {
      "name": "python3",
      "display_name": "Python 3"
    },
    "language_info": {
      "name": "python"
    }
  },
  "cells": [
    {
      "cell_type": "code",
      "source": [
        "goal_state = [['A', 'B', 'C'], [], []]\n",
        "\n",
        "def is_goal(state):\n",
        "    return state == goal_state\n",
        "\n",
        "def generate_next_states(state):\n",
        "    next_states = []\n",
        "    for i in range(len(state)):\n",
        "        if state[i]:\n",
        "            block = state[i][-1]\n",
        "            new_state = [list(stack) for stack in state]\n",
        "            new_state[i].pop()\n",
        "            for j in range(len(state)):\n",
        "                if i != j:\n",
        "                    new_state_copy = [list(stack) for stack in new_state]\n",
        "                    new_state_copy[j].append(block)\n",
        "                    next_states.append(new_state_copy)\n",
        "    return next_states\n",
        "\n",
        "def dfs(initial_state):\n",
        "    stack = [initial_state]\n",
        "    visited = set()\n",
        "    while stack:\n",
        "        state = stack.pop()\n",
        "        if is_goal(state):\n",
        "            return state\n",
        "        state_tuple = tuple(tuple(s) for s in state)\n",
        "        if state_tuple not in visited:\n",
        "            visited.add(state_tuple)\n",
        "            stack.extend(generate_next_states(state))\n",
        "    return None\n",
        "\n",
        "initial_state = [[], ['A'], ['B', 'C']]\n",
        "print(\"DFS Result:\", dfs(initial_state))"
      ],
      "metadata": {
        "colab": {
          "base_uri": "https://localhost:8080/"
        },
        "id": "keeTxOqjjDA0",
        "outputId": "febce712-5d42-4f21-e88d-2cd1cfd33807"
      },
      "execution_count": null,
      "outputs": [
        {
          "output_type": "stream",
          "name": "stdout",
          "text": [
            "DFS Result: [['A', 'B', 'C'], [], []]\n"
          ]
        }
      ]
    },
    {
      "cell_type": "code",
      "execution_count": null,
      "metadata": {
        "colab": {
          "base_uri": "https://localhost:8080/"
        },
        "id": "lwryE7lRgVCV",
        "outputId": "c1eca0db-2f8d-4969-f5a5-2f297a4e9305"
      },
      "outputs": [
        {
          "output_type": "stream",
          "name": "stdout",
          "text": [
            "BFS Result: [['A', 'B', 'C'], [], []]\n"
          ]
        }
      ],
      "source": [
        "goal_state = [['A', 'B', 'C'], [], []]\n",
        "\n",
        "def is_goal(state):\n",
        "  return state == goal_state\n",
        "\n",
        "def generate_next_states(state):\n",
        "  next_states = []\n",
        "  for i in range(len(state)):\n",
        "      if state[i]:\n",
        "          block = state[i][-1]\n",
        "          new_state = [list(stack) for stack in state]\n",
        "          new_state[i].pop()\n",
        "          for j in range(len(state)):\n",
        "              if i != j:\n",
        "                  new_state_copy = [list(stack) for stack in new_state]\n",
        "                  new_state_copy[j].append(block)\n",
        "                  next_states.append(new_state_copy)\n",
        "  return next_states\n",
        "\n",
        "def bfs(initial_state):\n",
        "  queue = [initial_state]\n",
        "  visited = set()\n",
        "  while queue:\n",
        "      state = queue.pop(0)\n",
        "      if is_goal(state):\n",
        "          return state\n",
        "      state_tuple = tuple(tuple(s) for s in state)\n",
        "      if state_tuple not in visited:\n",
        "          visited.add(state_tuple)\n",
        "          queue.extend(generate_next_states(state))\n",
        "  return None\n",
        "\n",
        "initial_state = [[], ['A'], ['B', 'C']]\n",
        "print(\"BFS Result:\", bfs(initial_state))\n"
      ]
    },
    {
      "cell_type": "code",
      "source": [
        "goal_state = [['A', 'B', 'C'], [], []]\n",
        "\n",
        "def is_goal(state):\n",
        "    return state == goal_state\n",
        "\n",
        "def generate_next_states(state):\n",
        "  next_states = []\n",
        "  for i in range(len(state)):\n",
        "      if state[i]:\n",
        "          block = state[i][-1]\n",
        "          new_state = [list(stack) for stack in state]\n",
        "          new_state[i].pop()\n",
        "          for j in range(len(state)):\n",
        "              if i != j:\n",
        "                  new_state_copy = [list(stack) for stack in new_state]\n",
        "                  new_state_copy[j].append(block)\n",
        "                  next_states.append(new_state_copy)\n",
        "  return next_states\n",
        "\n",
        "def dls(initial_state, depth):\n",
        "  def recursive_dls(state, depth):\n",
        "      if is_goal(state):\n",
        "          return state\n",
        "      if depth == 0:\n",
        "          return None\n",
        "      for next_state in generate_next_states(state):\n",
        "          result = recursive_dls(next_state, depth - 1)\n",
        "          if result:\n",
        "              return result\n",
        "      return None\n",
        "  return recursive_dls(initial_state, depth)\n",
        "\n",
        "initial_state = [[], ['A'], ['B', 'C']]\n",
        "print(\"DLS Result:\", dls(initial_state, 1))\n"
      ],
      "metadata": {
        "colab": {
          "base_uri": "https://localhost:8080/"
        },
        "id": "uhr3VS23jxy1",
        "outputId": "8935d52a-f3bd-494a-c047-504d612a5489"
      },
      "execution_count": null,
      "outputs": [
        {
          "output_type": "stream",
          "name": "stdout",
          "text": [
            "DLS Result: None\n"
          ]
        }
      ]
    },
    {
      "cell_type": "code",
      "source": [
        "goal_state = [['A', 'B', 'C'], [], []]\n",
        "\n",
        "def is_goal(state):\n",
        "  return state == goal_state\n",
        "\n",
        "def generate_next_states(state):\n",
        "  next_states = []\n",
        "  for i in range(len(state)):\n",
        "      if state[i]:\n",
        "          block = state[i][-1]\n",
        "          new_state = [list(stack) for stack in state]\n",
        "          new_state[i].pop()\n",
        "          for j in range(len(state)):\n",
        "              if i != j:\n",
        "                  new_state_copy = [list(stack) for stack in new_state]\n",
        "                  new_state_copy[j].append(block)\n",
        "                  next_states.append(new_state_copy)\n",
        "  return next_states\n",
        "\n",
        "def ids(initial_state):\n",
        "  depth = 0\n",
        "  while True:\n",
        "      result = dls(initial_state, depth)\n",
        "      if result:\n",
        "          return depth, result\n",
        "      depth += 1\n",
        "\n",
        "initial_state = [[], ['A'], ['B', 'C']]\n",
        "print(\"IDS Result:\", ids(initial_state))"
      ],
      "metadata": {
        "colab": {
          "base_uri": "https://localhost:8080/"
        },
        "id": "WXtM8OYkjz9Y",
        "outputId": "547a72f7-14b4-48f0-c277-651c22579f69"
      },
      "execution_count": null,
      "outputs": [
        {
          "output_type": "stream",
          "name": "stdout",
          "text": [
            "IDS Result: (4, [['A', 'B', 'C'], [], []])\n"
          ]
        }
      ]
    },
    {
      "cell_type": "code",
      "source": [
        "from queue import PriorityQueue\n",
        "\n",
        "graph = {\n",
        "    'S': [('A', 1), ('B', 5), ('C', 15)],\n",
        "    'A': [('G', 10)],\n",
        "    'B': [('G', 5)],\n",
        "    'C': [('G', 5)],\n",
        "    'G': []\n",
        "}\n",
        "\n",
        "def uniform_cost_search(graph, start, goal):\n",
        "    pq = PriorityQueue()\n",
        "    pq.put((0, start, []))\n",
        "    visited = set()\n",
        "\n",
        "    while not pq.empty():\n",
        "        cost, node, path = pq.get()\n",
        "\n",
        "        if node in visited:\n",
        "            continue\n",
        "        visited.add(node)\n",
        "\n",
        "        path = path + [node]\n",
        "\n",
        "        if node == goal:\n",
        "            return cost, path\n",
        "\n",
        "        for neighbor, weight in graph.get(node, []):\n",
        "            if neighbor not in visited:\n",
        "                pq.put((cost + weight, neighbor, path))\n",
        "\n",
        "    return float(\"inf\"), []\n",
        "\n",
        "cost, path = uniform_cost_search(graph, 'S', 'G')\n",
        "print(\"Optimal Path:\", \" -> \".join(path))\n",
        "print(\"Total Cost:\", cost)\n"
      ],
      "metadata": {
        "colab": {
          "base_uri": "https://localhost:8080/"
        },
        "id": "29m6bFJ7jWXr",
        "outputId": "1479da7f-078a-4324-a9ac-efd85ae1ed27"
      },
      "execution_count": null,
      "outputs": [
        {
          "output_type": "stream",
          "name": "stdout",
          "text": [
            "Optimal Path: S -> B -> G\n",
            "Total Cost: 10\n"
          ]
        }
      ]
    }
  ]
}