{
 "cells": [
  {
   "cell_type": "markdown",
   "metadata": {
    "id": "9gFa7ye1kKKQ"
   },
   "source": [
    "1. Write a Python program to produce some information from the results of four standard tests in Maths, Science, English, and IT. Each test is out of 100 marks. The information output should be the highest, lowest, and average mark for each test and the highest, lowest, and average mark overall."
   ]
  },
  {
   "cell_type": "code",
   "execution_count": 1,
   "metadata": {
    "colab": {
     "base_uri": "https://localhost:8080/"
    },
    "id": "Q7UBQLWPj8w-",
    "outputId": "ed9a2e90-dcbb-4442-e689-a8c79b436d65"
   },
   "outputs": [
    {
     "name": "stdout",
     "output_type": "stream",
     "text": [
      "Maths:\n",
      "  Highest: 95 by Alice\n",
      "  Lowest: 76 by Charlie\n",
      "  Average: 87.40\n",
      "Science:\n",
      "  Highest: 94 by Eve\n",
      "  Lowest: 76 by Frank\n",
      "  Average: 86.20\n",
      "English:\n",
      "  Highest: 90 by Frank\n",
      "  Lowest: 75 by Alice\n",
      "  Average: 82.20\n",
      "IT:\n",
      "  Highest: 92 by Eve\n",
      "  Lowest: 83 by Jack\n",
      "  Average: 87.50\n"
     ]
    }
   ],
   "source": [
    "marks = {\n",
    "    \"Maths\": {\n",
    "        \"Alice\": 95, \"Bob\": 88, \"Charlie\": 76, \"David\": 90, \"Eve\": 85,\n",
    "        \"Frank\": 89, \"Grace\": 92, \"Hank\": 94, \"Ivy\": 78, \"Jack\": 87\n",
    "    },\n",
    "    \"Science\": {\n",
    "        \"Alice\": 84, \"Bob\": 92, \"Charlie\": 80, \"David\": 89, \"Eve\": 94,\n",
    "        \"Frank\": 76, \"Grace\": 88, \"Hank\": 90, \"Ivy\": 83, \"Jack\": 86\n",
    "    },\n",
    "    \"English\": {\n",
    "        \"Alice\": 75, \"Bob\": 85, \"Charlie\": 78, \"David\": 80, \"Eve\": 82,\n",
    "        \"Frank\": 90, \"Grace\": 88, \"Hank\": 84, \"Ivy\": 79, \"Jack\": 81\n",
    "    },\n",
    "    \"IT\": {\n",
    "        \"Alice\": 91, \"Bob\": 87, \"Charlie\": 85, \"David\": 89, \"Eve\": 92,\n",
    "        \"Frank\": 90, \"Grace\": 88, \"Hank\": 86, \"Ivy\": 84, \"Jack\": 83\n",
    "    }\n",
    "}\n",
    "\n",
    "for subject, students_scores in marks.items():\n",
    "    scores = list(students_scores.values())\n",
    "    highest_score = max(scores)\n",
    "    lowest_score = min(scores)\n",
    "    average_score = sum(scores) / len(scores)\n",
    "\n",
    "    # Find students with the highest and lowest scores\n",
    "    highest_scorer = [name for name, score in students_scores.items() if score == highest_score]\n",
    "    lowest_scorer = [name for name, score in students_scores.items() if score == lowest_score]\n",
    "\n",
    "    print(f\"{subject}:\")\n",
    "    print(f\"  Highest: {highest_score} by {', '.join(highest_scorer)}\")\n",
    "    print(f\"  Lowest: {lowest_score} by {', '.join(lowest_scorer)}\")\n",
    "    print(f\"  Average: {average_score:.2f}\")\n"
   ]
  },
  {
   "cell_type": "markdown",
   "metadata": {
    "id": "D_KV8ebnkmEK"
   },
   "source": [
    "2. Write a Python program to input the basic salary of an employee and calculate its Gross salary.\n",
    "Conditions:\n",
    "For Basic Salary <= 10000: HRA = 20%, DA = 80%\n",
    "For Basic Salary <= 20000: HRA = 25%, DA = 90%\n",
    "For Basic Salary > 20000: HRA = 30%, DA = 95%"
   ]
  },
  {
   "cell_type": "code",
   "execution_count": 3,
   "metadata": {
    "colab": {
     "base_uri": "https://localhost:8080/"
    },
    "id": "ZeeKu54skJSz",
    "outputId": "4da53b32-1669-452a-ea4b-dc8287987bf1"
   },
   "outputs": [
    {
     "name": "stdout",
     "output_type": "stream",
     "text": [
      "Gross Salary: 1200.0\n"
     ]
    }
   ],
   "source": [
    "basic_salary = float(input(\"Enter basic salary: \"))\n",
    "\n",
    "if basic_salary <= 10000:\n",
    "    hra = 0.2 * basic_salary\n",
    "    da = 0.8 * basic_salary\n",
    "elif basic_salary <= 20000:\n",
    "    hra = 0.25 * basic_salary\n",
    "    da = 0.9 * basic_salary\n",
    "else:\n",
    "    hra = 0.3 * basic_salary\n",
    "    da = 0.95 * basic_salary\n",
    "\n",
    "gross_salary = basic_salary + hra + da\n",
    "print(f\"Gross Salary: {gross_salary}\")\n"
   ]
  },
  {
   "cell_type": "markdown",
   "metadata": {
    "id": "peVxWEshkwmZ"
   },
   "source": [
    "3. Write a Python program to check the validity of password input by users.\n",
    "Validation rules:\n",
    "At least 1 letter between [a-z] and 1 letter between [A-Z].\n",
    "At least 1 number between [0-9].\n",
    "At least 1 character from [$#@].\n",
    "Minimum length: 6.\n",
    "Maximum length: 16."
   ]
  },
  {
   "cell_type": "code",
   "execution_count": 4,
   "metadata": {
    "colab": {
     "base_uri": "https://localhost:8080/"
    },
    "id": "5SaDk8dDk0Ml",
    "outputId": "55aef7d7-22b0-4aa5-98f4-de3788e0bb96"
   },
   "outputs": [
    {
     "name": "stdout",
     "output_type": "stream",
     "text": [
      "Password is invalid\n"
     ]
    }
   ],
   "source": [
    "import re\n",
    "\n",
    "password = input(\"Enter a password: \")\n",
    "pattern = r\"^(?=.*[a-z])(?=.*[A-Z])(?=.*\\d)(?=.*[#$@]).{6,16}$\"\n",
    "\n",
    "if re.match(pattern, password):\n",
    "    print(\"Password is valid\")\n",
    "else:\n",
    "    print(\"Password is invalid\")"
   ]
  },
  {
   "cell_type": "markdown",
   "metadata": {
    "id": "Xs2f8Ingk8Ku"
   },
   "source": [
    "4. Create a list L = [10, 20, 30, 40, 50, 60, 70, 80].\n",
    "(i) Write a program to add 200 and 300 to L.\n",
    "(ii) Write a program to remove 10 and 30 from L.\n",
    "(iii) Write a program to sort L in ascending order.\n",
    "(iv) Write a program to sort L in descending order."
   ]
  },
  {
   "cell_type": "code",
   "execution_count": null,
   "metadata": {
    "colab": {
     "base_uri": "https://localhost:8080/"
    },
    "id": "2Gc0quglk-UO",
    "outputId": "651b8b1b-7431-48fe-94d2-a36d5361c447"
   },
   "outputs": [
    {
     "name": "stdout",
     "output_type": "stream",
     "text": [
      "After adding 200 and 300: [10, 20, 30, 40, 50, 60, 70, 80, 200, 300]\n",
      "After removing 10 and 30: [20, 40, 50, 60, 70, 80, 200, 300]\n",
      "Ascending order: [20, 40, 50, 60, 70, 80, 200, 300]\n",
      "Descending order: [300, 200, 80, 70, 60, 50, 40, 20]\n"
     ]
    }
   ],
   "source": [
    "L = [10, 20, 30, 40, 50, 60, 70, 80]\n",
    "\n",
    "# (i)\n",
    "L.append(200)\n",
    "L.append(300)\n",
    "print(\"After adding 200 and 300:\", L)\n",
    "\n",
    "# (ii)\n",
    "L.remove(10)\n",
    "L.remove(30)\n",
    "print(\"After removing 10 and 30:\", L)\n",
    "\n",
    "# (iii)\n",
    "L.sort()\n",
    "print(\"Ascending order:\", L)\n",
    "\n",
    "# (iv)\n",
    "L.sort(reverse=True)\n",
    "print(\"Descending order:\", L)\n"
   ]
  },
  {
   "cell_type": "markdown",
   "metadata": {
    "id": "pYwTldxQk_HA"
   },
   "source": [
    "5. Perform various operations on a dictionary D.\n",
    "Initial dictionary: D = {1: “One”, 2: “Two”, 3: “Three”, 4: “Four”, 5: “Five”}.\n",
    "(i) Add a new entry in D; key=6 and value=\"Six\".\n",
    "(ii) Remove key=2.\n",
    "(iii) Check if key=6 is present in D.\n",
    "(iv) Count the number of elements present in D.\n",
    "(v) Add all the values present in D."
   ]
  },
  {
   "cell_type": "code",
   "execution_count": null,
   "metadata": {
    "colab": {
     "base_uri": "https://localhost:8080/"
    },
    "id": "K8zkxIXElDLc",
    "outputId": "8be4d275-88af-44e3-cdd0-4f3397c7015c"
   },
   "outputs": [
    {
     "name": "stdout",
     "output_type": "stream",
     "text": [
      "After adding key=6: {1: 'One', 2: 'Two', 3: 'Three', 4: 'Four', 5: 'Five', 6: 'Six'}\n",
      "After removing key=2: {1: 'One', 3: 'Three', 4: 'Four', 5: 'Five', 6: 'Six'}\n",
      "Key 6 is present\n",
      "Number of elements: 5\n",
      "Concatenated values: One, Three, Four, Five, Six\n"
     ]
    }
   ],
   "source": [
    "D = {1: \"One\", 2: \"Two\", 3: \"Three\", 4: \"Four\", 5: \"Five\"}\n",
    "\n",
    "# (i)\n",
    "D[6] = \"Six\"\n",
    "print(\"After adding key=6:\", D)\n",
    "\n",
    "# (ii)\n",
    "D.pop(2, None)\n",
    "print(\"After removing key=2:\", D)\n",
    "\n",
    "# (iii)\n",
    "key_to_check = 6\n",
    "print(f\"Key {key_to_check} is {'present' if key_to_check in D else 'not present'}\")\n",
    "\n",
    "# (iv)\n",
    "print(\"Number of elements:\", len(D))\n",
    "\n",
    "# (v)\n",
    "print(\"Concatenated values:\", \", \".join(D.values()))\n"
   ]
  },
  {
   "cell_type": "markdown",
   "metadata": {
    "id": "S28U_o1GlFji"
   },
   "source": [
    "6. Generate a list of 100 random numbers between 100 and 900.\n",
    "(i) Print all odd numbers.\n",
    "(ii) Print all even numbers.\n",
    "(iii) Print all prime numbers."
   ]
  },
  {
   "cell_type": "code",
   "execution_count": null,
   "metadata": {
    "colab": {
     "base_uri": "https://localhost:8080/"
    },
    "id": "SUfIHOPdlFXh",
    "outputId": "ccabe734-7d6a-4d4e-bb1f-db18d9ac9b4c"
   },
   "outputs": [
    {
     "name": "stdout",
     "output_type": "stream",
     "text": [
      "Odd numbers: [869, 195, 179, 477, 597, 335, 499, 695, 759, 199, 241, 855, 649, 567, 861, 641, 699, 245, 713, 353, 255, 585, 153, 587, 769, 717, 569, 397, 811, 841, 403, 459, 457, 413, 765, 747, 399, 183, 263, 495, 415, 649, 351, 483, 465, 575, 825, 289]\n",
      "Even numbers: [816, 792, 286, 126, 152, 338, 520, 146, 836, 674, 666, 440, 660, 604, 342, 766, 436, 892, 764, 576, 234, 894, 484, 552, 432, 426, 210, 836, 156, 390, 602, 456, 812, 572, 596, 500, 426, 314, 138, 496, 740, 316, 656, 878, 122, 402, 874, 778, 126, 480, 360, 808]\n",
      "Prime numbers: [179, 499, 199, 241, 641, 353, 587, 769, 569, 397, 811, 457, 263]\n"
     ]
    }
   ],
   "source": [
    "import random\n",
    "\n",
    "numbers = [random.randint(100, 900) for _ in range(100)]\n",
    "\n",
    "# (i) Odd numbers\n",
    "odds = [num for num in numbers if num % 2 != 0]\n",
    "print(\"Odd numbers:\", odds)\n",
    "\n",
    "# (ii) Even numbers\n",
    "evens = [num for num in numbers if num % 2 == 0]\n",
    "print(\"Even numbers:\", evens)\n",
    "\n",
    "# (iii) Prime numbers\n",
    "def is_prime(n):\n",
    "    if n < 2:\n",
    "        return False\n",
    "    for i in range(2, int(n**0.5) + 1):\n",
    "        if n % i == 0:\n",
    "            return False\n",
    "    return True\n",
    "\n",
    "primes = [num for num in numbers if is_prime(num)]\n",
    "print(\"Prime numbers:\", primes)\n"
   ]
  },
  {
   "cell_type": "markdown",
   "metadata": {
    "id": "MLBt9F2VlMOD"
   },
   "source": [
    "7. Write a function to calculate compound interest.\n",
    "Save this function as a module and call it in another Python file.\n"
   ]
  },
  {
   "cell_type": "code",
   "execution_count": null,
   "metadata": {
    "colab": {
     "base_uri": "https://localhost:8080/"
    },
    "id": "0u6DLrgVlSEU",
    "outputId": "01b892ce-4dba-4ef8-ebec-d1cf9aeb813e"
   },
   "outputs": [
    {
     "name": "stdout",
     "output_type": "stream",
     "text": [
      "Enter principal: 8\n",
      "Enter interest rate: 9\n",
      "Enter time in years: 9\n",
      "Compound Interest: 17.375146235538487\n"
     ]
    }
   ],
   "source": [
    "def compound_interest(principal, rate, time):\n",
    "    return principal * (1 + rate / 100) ** time\n",
    "\n",
    "# Call the function\n",
    "principal = float(input(\"Enter principal: \"))\n",
    "rate = float(input(\"Enter interest rate: \"))\n",
    "time = float(input(\"Enter time in years: \"))\n",
    "\n",
    "print(\"Compound Interest:\", compound_interest(principal, rate, time))\n"
   ]
  },
  {
   "cell_type": "markdown",
   "metadata": {
    "id": "nHTqQFuelX10"
   },
   "source": [
    "8. Define classes for Restaurant and User."
   ]
  },
  {
   "cell_type": "code",
   "execution_count": null,
   "metadata": {
    "colab": {
     "base_uri": "https://localhost:8080/"
    },
    "id": "X6jBwUZGlbTe",
    "outputId": "1eb9c721-395f-4315-f7b6-7100fcfac1ea"
   },
   "outputs": [
    {
     "name": "stdout",
     "output_type": "stream",
     "text": [
      "The Food Place serves Italian cuisine.\n",
      "The Food Place is now open!\n",
      "User: John Doe\n",
      "Age: 30\n",
      "Email: john.doe@example.com\n",
      "Phone: 1234567890\n",
      "Hello, John Doe!\n"
     ]
    }
   ],
   "source": [
    "# (A) Restaurant Class\n",
    "class Restaurant:\n",
    "    def __init__(self, restaurant_name, cuisine_type):\n",
    "        self.restaurant_name = restaurant_name\n",
    "        self.cuisine_type = cuisine_type\n",
    "\n",
    "    def describe_restaurant(self):\n",
    "        print(f\"{self.restaurant_name} serves {self.cuisine_type} cuisine.\")\n",
    "\n",
    "    def open_restaurant(self):\n",
    "        print(f\"{self.restaurant_name} is now open!\")\n",
    "\n",
    "restaurant = Restaurant(\"The Food Place\", \"Italian\")\n",
    "restaurant.describe_restaurant()\n",
    "restaurant.open_restaurant()\n",
    "\n",
    "# (B) User Class\n",
    "class User:\n",
    "    def __init__(self, first_name, last_name):\n",
    "        self.first_name = first_name\n",
    "        self.last_name = last_name\n",
    "        self.attributes = {\"age\": 0, \"email\": \"\", \"phone\": \"\"}\n",
    "\n",
    "    def describe_user(self):\n",
    "        print(f\"User: {self.first_name} {self.last_name}\")\n",
    "        for attr, value in self.attributes.items():\n",
    "            print(f\"{attr.capitalize()}: {value}\")\n",
    "\n",
    "    def greet_user(self):\n",
    "        print(f\"Hello, {self.first_name} {self.last_name}!\")\n",
    "\n",
    "user1 = User(\"John\", \"Doe\")\n",
    "user1.attributes.update({\"age\": 30, \"email\": \"john.doe@example.com\", \"phone\": \"1234567890\"})\n",
    "user1.describe_user()\n",
    "user1.greet_user()\n"
   ]
  }
 ],
 "metadata": {
  "colab": {
   "provenance": []
  },
  "kernelspec": {
   "display_name": "venv",
   "language": "python",
   "name": "python3"
  },
  "language_info": {
   "codemirror_mode": {
    "name": "ipython",
    "version": 3
   },
   "file_extension": ".py",
   "mimetype": "text/x-python",
   "name": "python",
   "nbconvert_exporter": "python",
   "pygments_lexer": "ipython3",
   "version": "3.13.2"
  }
 },
 "nbformat": 4,
 "nbformat_minor": 0
}
